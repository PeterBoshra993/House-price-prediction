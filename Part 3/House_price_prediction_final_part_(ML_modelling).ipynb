{
  "nbformat": 4,
  "nbformat_minor": 0,
  "metadata": {
    "colab": {
      "name": "House price prediction final part (ML modelling).ipynb",
      "provenance": []
    },
    "kernelspec": {
      "name": "python3",
      "display_name": "Python 3"
    },
    "language_info": {
      "name": "python"
    }
  },
  "cells": [
    {
      "cell_type": "code",
      "source": [
        "from google.colab import drive\n",
        "drive.mount('/content/drive')"
      ],
      "metadata": {
        "colab": {
          "base_uri": "https://localhost:8080/"
        },
        "id": "C1tFzx2lrfwy",
        "outputId": "7f15e8b9-f8ca-4e10-87ff-bce5fae1edf9"
      },
      "execution_count": 1,
      "outputs": [
        {
          "output_type": "stream",
          "name": "stdout",
          "text": [
            "Drive already mounted at /content/drive; to attempt to forcibly remount, call drive.mount(\"/content/drive\", force_remount=True).\n"
          ]
        }
      ]
    },
    {
      "cell_type": "code",
      "execution_count": 2,
      "metadata": {
        "id": "NqioO4G4lnWl"
      },
      "outputs": [],
      "source": [
        "import pandas as pd"
      ]
    },
    {
      "cell_type": "code",
      "source": [
        "df = pd.read_csv(\"/content/drive/MyDrive/House price prediction/house_price_pred_dummies(ready_to_split).csv\")\n",
        "df.head()"
      ],
      "metadata": {
        "colab": {
          "base_uri": "https://localhost:8080/",
          "height": 334
        },
        "id": "IPgSzJvilvBi",
        "outputId": "3c71f65a-3159-4a9c-abf7-87e5caf25446"
      },
      "execution_count": 3,
      "outputs": [
        {
          "output_type": "execute_result",
          "data": {
            "text/plain": [
              "   BsmtFullBath  BsmtHalfBath  FullBath  HalfBath  BedroomAbvGr  KitchenAbvGr  \\\n",
              "0           1.0           0.0       2.0       1.0           3.0           1.0   \n",
              "1           0.0           1.0       2.0       0.0           3.0           1.0   \n",
              "2           1.0           0.0       2.0       1.0           3.0           1.0   \n",
              "3           1.0           0.0       1.0       0.0           3.0           1.0   \n",
              "4           1.0           0.0       2.0       1.0           4.0           1.0   \n",
              "\n",
              "   total_rooms_above_grade  Fireplaces  garage_car_capacity  \\\n",
              "0                      8.0         0.0                  2.0   \n",
              "1                      6.0         1.0                  2.0   \n",
              "2                      6.0         1.0                  2.0   \n",
              "3                      7.0         1.0                  3.0   \n",
              "4                      9.0         1.0                  3.0   \n",
              "\n",
              "   other_features_values  ...  masonry_veneer_exist_exist  \\\n",
              "0                    0.0  ...                           1   \n",
              "1                    0.0  ...                           0   \n",
              "2                    0.0  ...                           1   \n",
              "3                    0.0  ...                           0   \n",
              "4                    0.0  ...                           1   \n",
              "\n",
              "   Low_Quality_areas_existance_there's low quality  \\\n",
              "0                                                0   \n",
              "1                                                0   \n",
              "2                                                0   \n",
              "3                                                0   \n",
              "4                                                0   \n",
              "\n",
              "   quantile_ranges_of_areas_middle  quantile_ranges_of_areas_top  \\\n",
              "0                                0                             0   \n",
              "1                                1                             0   \n",
              "2                                1                             0   \n",
              "3                                1                             0   \n",
              "4                                0                             1   \n",
              "\n",
              "   quantile_ranges_of_basement_finished_areas_nearly 50% finished  \\\n",
              "0                                                  0                \n",
              "1                                                  1                \n",
              "2                                                  1                \n",
              "3                                                  0                \n",
              "4                                                  1                \n",
              "\n",
              "   quantile_ranges_of_basement_finished_areas_mostly finished  \\\n",
              "0                                                  1            \n",
              "1                                                  0            \n",
              "2                                                  0            \n",
              "3                                                  0            \n",
              "4                                                  0            \n",
              "\n",
              "   three_enteries_exist_exist  Open_Porch_exist_exist  \\\n",
              "0                           0                       1   \n",
              "1                           0                       0   \n",
              "2                           0                       1   \n",
              "3                           0                       1   \n",
              "4                           0                       1   \n",
              "\n",
              "   Screen_Porch_exist_exist  Enclosed Porch exist_exist  \n",
              "0                         0                           0  \n",
              "1                         0                           0  \n",
              "2                         0                           0  \n",
              "3                         0                           1  \n",
              "4                         0                           0  \n",
              "\n",
              "[5 rows x 165 columns]"
            ],
            "text/html": [
              "\n",
              "  <div id=\"df-e2f12dd8-e617-406c-8955-6433d7d6ed68\">\n",
              "    <div class=\"colab-df-container\">\n",
              "      <div>\n",
              "<style scoped>\n",
              "    .dataframe tbody tr th:only-of-type {\n",
              "        vertical-align: middle;\n",
              "    }\n",
              "\n",
              "    .dataframe tbody tr th {\n",
              "        vertical-align: top;\n",
              "    }\n",
              "\n",
              "    .dataframe thead th {\n",
              "        text-align: right;\n",
              "    }\n",
              "</style>\n",
              "<table border=\"1\" class=\"dataframe\">\n",
              "  <thead>\n",
              "    <tr style=\"text-align: right;\">\n",
              "      <th></th>\n",
              "      <th>BsmtFullBath</th>\n",
              "      <th>BsmtHalfBath</th>\n",
              "      <th>FullBath</th>\n",
              "      <th>HalfBath</th>\n",
              "      <th>BedroomAbvGr</th>\n",
              "      <th>KitchenAbvGr</th>\n",
              "      <th>total_rooms_above_grade</th>\n",
              "      <th>Fireplaces</th>\n",
              "      <th>garage_car_capacity</th>\n",
              "      <th>other_features_values</th>\n",
              "      <th>...</th>\n",
              "      <th>masonry_veneer_exist_exist</th>\n",
              "      <th>Low_Quality_areas_existance_there's low quality</th>\n",
              "      <th>quantile_ranges_of_areas_middle</th>\n",
              "      <th>quantile_ranges_of_areas_top</th>\n",
              "      <th>quantile_ranges_of_basement_finished_areas_nearly 50% finished</th>\n",
              "      <th>quantile_ranges_of_basement_finished_areas_mostly finished</th>\n",
              "      <th>three_enteries_exist_exist</th>\n",
              "      <th>Open_Porch_exist_exist</th>\n",
              "      <th>Screen_Porch_exist_exist</th>\n",
              "      <th>Enclosed Porch exist_exist</th>\n",
              "    </tr>\n",
              "  </thead>\n",
              "  <tbody>\n",
              "    <tr>\n",
              "      <th>0</th>\n",
              "      <td>1.0</td>\n",
              "      <td>0.0</td>\n",
              "      <td>2.0</td>\n",
              "      <td>1.0</td>\n",
              "      <td>3.0</td>\n",
              "      <td>1.0</td>\n",
              "      <td>8.0</td>\n",
              "      <td>0.0</td>\n",
              "      <td>2.0</td>\n",
              "      <td>0.0</td>\n",
              "      <td>...</td>\n",
              "      <td>1</td>\n",
              "      <td>0</td>\n",
              "      <td>0</td>\n",
              "      <td>0</td>\n",
              "      <td>0</td>\n",
              "      <td>1</td>\n",
              "      <td>0</td>\n",
              "      <td>1</td>\n",
              "      <td>0</td>\n",
              "      <td>0</td>\n",
              "    </tr>\n",
              "    <tr>\n",
              "      <th>1</th>\n",
              "      <td>0.0</td>\n",
              "      <td>1.0</td>\n",
              "      <td>2.0</td>\n",
              "      <td>0.0</td>\n",
              "      <td>3.0</td>\n",
              "      <td>1.0</td>\n",
              "      <td>6.0</td>\n",
              "      <td>1.0</td>\n",
              "      <td>2.0</td>\n",
              "      <td>0.0</td>\n",
              "      <td>...</td>\n",
              "      <td>0</td>\n",
              "      <td>0</td>\n",
              "      <td>1</td>\n",
              "      <td>0</td>\n",
              "      <td>1</td>\n",
              "      <td>0</td>\n",
              "      <td>0</td>\n",
              "      <td>0</td>\n",
              "      <td>0</td>\n",
              "      <td>0</td>\n",
              "    </tr>\n",
              "    <tr>\n",
              "      <th>2</th>\n",
              "      <td>1.0</td>\n",
              "      <td>0.0</td>\n",
              "      <td>2.0</td>\n",
              "      <td>1.0</td>\n",
              "      <td>3.0</td>\n",
              "      <td>1.0</td>\n",
              "      <td>6.0</td>\n",
              "      <td>1.0</td>\n",
              "      <td>2.0</td>\n",
              "      <td>0.0</td>\n",
              "      <td>...</td>\n",
              "      <td>1</td>\n",
              "      <td>0</td>\n",
              "      <td>1</td>\n",
              "      <td>0</td>\n",
              "      <td>1</td>\n",
              "      <td>0</td>\n",
              "      <td>0</td>\n",
              "      <td>1</td>\n",
              "      <td>0</td>\n",
              "      <td>0</td>\n",
              "    </tr>\n",
              "    <tr>\n",
              "      <th>3</th>\n",
              "      <td>1.0</td>\n",
              "      <td>0.0</td>\n",
              "      <td>1.0</td>\n",
              "      <td>0.0</td>\n",
              "      <td>3.0</td>\n",
              "      <td>1.0</td>\n",
              "      <td>7.0</td>\n",
              "      <td>1.0</td>\n",
              "      <td>3.0</td>\n",
              "      <td>0.0</td>\n",
              "      <td>...</td>\n",
              "      <td>0</td>\n",
              "      <td>0</td>\n",
              "      <td>1</td>\n",
              "      <td>0</td>\n",
              "      <td>0</td>\n",
              "      <td>0</td>\n",
              "      <td>0</td>\n",
              "      <td>1</td>\n",
              "      <td>0</td>\n",
              "      <td>1</td>\n",
              "    </tr>\n",
              "    <tr>\n",
              "      <th>4</th>\n",
              "      <td>1.0</td>\n",
              "      <td>0.0</td>\n",
              "      <td>2.0</td>\n",
              "      <td>1.0</td>\n",
              "      <td>4.0</td>\n",
              "      <td>1.0</td>\n",
              "      <td>9.0</td>\n",
              "      <td>1.0</td>\n",
              "      <td>3.0</td>\n",
              "      <td>0.0</td>\n",
              "      <td>...</td>\n",
              "      <td>1</td>\n",
              "      <td>0</td>\n",
              "      <td>0</td>\n",
              "      <td>1</td>\n",
              "      <td>1</td>\n",
              "      <td>0</td>\n",
              "      <td>0</td>\n",
              "      <td>1</td>\n",
              "      <td>0</td>\n",
              "      <td>0</td>\n",
              "    </tr>\n",
              "  </tbody>\n",
              "</table>\n",
              "<p>5 rows × 165 columns</p>\n",
              "</div>\n",
              "      <button class=\"colab-df-convert\" onclick=\"convertToInteractive('df-e2f12dd8-e617-406c-8955-6433d7d6ed68')\"\n",
              "              title=\"Convert this dataframe to an interactive table.\"\n",
              "              style=\"display:none;\">\n",
              "        \n",
              "  <svg xmlns=\"http://www.w3.org/2000/svg\" height=\"24px\"viewBox=\"0 0 24 24\"\n",
              "       width=\"24px\">\n",
              "    <path d=\"M0 0h24v24H0V0z\" fill=\"none\"/>\n",
              "    <path d=\"M18.56 5.44l.94 2.06.94-2.06 2.06-.94-2.06-.94-.94-2.06-.94 2.06-2.06.94zm-11 1L8.5 8.5l.94-2.06 2.06-.94-2.06-.94L8.5 2.5l-.94 2.06-2.06.94zm10 10l.94 2.06.94-2.06 2.06-.94-2.06-.94-.94-2.06-.94 2.06-2.06.94z\"/><path d=\"M17.41 7.96l-1.37-1.37c-.4-.4-.92-.59-1.43-.59-.52 0-1.04.2-1.43.59L10.3 9.45l-7.72 7.72c-.78.78-.78 2.05 0 2.83L4 21.41c.39.39.9.59 1.41.59.51 0 1.02-.2 1.41-.59l7.78-7.78 2.81-2.81c.8-.78.8-2.07 0-2.86zM5.41 20L4 18.59l7.72-7.72 1.47 1.35L5.41 20z\"/>\n",
              "  </svg>\n",
              "      </button>\n",
              "      \n",
              "  <style>\n",
              "    .colab-df-container {\n",
              "      display:flex;\n",
              "      flex-wrap:wrap;\n",
              "      gap: 12px;\n",
              "    }\n",
              "\n",
              "    .colab-df-convert {\n",
              "      background-color: #E8F0FE;\n",
              "      border: none;\n",
              "      border-radius: 50%;\n",
              "      cursor: pointer;\n",
              "      display: none;\n",
              "      fill: #1967D2;\n",
              "      height: 32px;\n",
              "      padding: 0 0 0 0;\n",
              "      width: 32px;\n",
              "    }\n",
              "\n",
              "    .colab-df-convert:hover {\n",
              "      background-color: #E2EBFA;\n",
              "      box-shadow: 0px 1px 2px rgba(60, 64, 67, 0.3), 0px 1px 3px 1px rgba(60, 64, 67, 0.15);\n",
              "      fill: #174EA6;\n",
              "    }\n",
              "\n",
              "    [theme=dark] .colab-df-convert {\n",
              "      background-color: #3B4455;\n",
              "      fill: #D2E3FC;\n",
              "    }\n",
              "\n",
              "    [theme=dark] .colab-df-convert:hover {\n",
              "      background-color: #434B5C;\n",
              "      box-shadow: 0px 1px 3px 1px rgba(0, 0, 0, 0.15);\n",
              "      filter: drop-shadow(0px 1px 2px rgba(0, 0, 0, 0.3));\n",
              "      fill: #FFFFFF;\n",
              "    }\n",
              "  </style>\n",
              "\n",
              "      <script>\n",
              "        const buttonEl =\n",
              "          document.querySelector('#df-e2f12dd8-e617-406c-8955-6433d7d6ed68 button.colab-df-convert');\n",
              "        buttonEl.style.display =\n",
              "          google.colab.kernel.accessAllowed ? 'block' : 'none';\n",
              "\n",
              "        async function convertToInteractive(key) {\n",
              "          const element = document.querySelector('#df-e2f12dd8-e617-406c-8955-6433d7d6ed68');\n",
              "          const dataTable =\n",
              "            await google.colab.kernel.invokeFunction('convertToInteractive',\n",
              "                                                     [key], {});\n",
              "          if (!dataTable) return;\n",
              "\n",
              "          const docLinkHtml = 'Like what you see? Visit the ' +\n",
              "            '<a target=\"_blank\" href=https://colab.research.google.com/notebooks/data_table.ipynb>data table notebook</a>'\n",
              "            + ' to learn more about interactive tables.';\n",
              "          element.innerHTML = '';\n",
              "          dataTable['output_type'] = 'display_data';\n",
              "          await google.colab.output.renderOutput(dataTable, element);\n",
              "          const docLink = document.createElement('div');\n",
              "          docLink.innerHTML = docLinkHtml;\n",
              "          element.appendChild(docLink);\n",
              "        }\n",
              "      </script>\n",
              "    </div>\n",
              "  </div>\n",
              "  "
            ]
          },
          "metadata": {},
          "execution_count": 3
        }
      ]
    },
    {
      "cell_type": "code",
      "source": [
        "df.shape"
      ],
      "metadata": {
        "colab": {
          "base_uri": "https://localhost:8080/"
        },
        "id": "dOdiKNaWr7T5",
        "outputId": "9c2b0937-6bc1-41d4-ae69-b7a0f97e35a2"
      },
      "execution_count": 4,
      "outputs": [
        {
          "output_type": "execute_result",
          "data": {
            "text/plain": [
              "(1102, 165)"
            ]
          },
          "metadata": {},
          "execution_count": 4
        }
      ]
    },
    {
      "cell_type": "code",
      "source": [
        "## shuffle\n",
        "from sklearn.utils import shuffle\n",
        "clean = shuffle(df)"
      ],
      "metadata": {
        "id": "vtFfGdnalvn8"
      },
      "execution_count": 5,
      "outputs": []
    },
    {
      "cell_type": "code",
      "source": [
        "## reset indexes\n",
        "clean.reset_index(inplace=True, drop=True)"
      ],
      "metadata": {
        "id": "uz5WE1Oelv8s"
      },
      "execution_count": 6,
      "outputs": []
    },
    {
      "cell_type": "code",
      "source": [
        "from sklearn.model_selection import train_test_split\n",
        "X = clean.drop('SalePrice', axis = 1)\n",
        "y = clean['SalePrice']"
      ],
      "metadata": {
        "id": "ZwmvwYvGl1qy"
      },
      "execution_count": 7,
      "outputs": []
    },
    {
      "cell_type": "code",
      "source": [
        "y.head()"
      ],
      "metadata": {
        "colab": {
          "base_uri": "https://localhost:8080/"
        },
        "id": "SVnKSl8DsNyv",
        "outputId": "3cbd97de-7bcb-4ad8-d591-ab933d08302f"
      },
      "execution_count": 8,
      "outputs": [
        {
          "output_type": "execute_result",
          "data": {
            "text/plain": [
              "0    129000.0\n",
              "1    227875.0\n",
              "2    115000.0\n",
              "3    155000.0\n",
              "4    139950.0\n",
              "Name: SalePrice, dtype: float64"
            ]
          },
          "metadata": {},
          "execution_count": 8
        }
      ]
    },
    {
      "cell_type": "code",
      "source": [
        "x_train, x_test, y_train, y_test=train_test_split(X, y, test_size = 0.2)"
      ],
      "metadata": {
        "id": "CIYF0QKLl4Hh"
      },
      "execution_count": 9,
      "outputs": []
    },
    {
      "cell_type": "code",
      "source": [
        "from sklearn.preprocessing import StandardScaler\n",
        "\n",
        "scaler = StandardScaler()\n",
        "scaler.fit(x_train)\n",
        "\n",
        "x_train= scaler.transform(x_train)\n",
        "x_test= scaler.transform(x_test)"
      ],
      "metadata": {
        "id": "Z6vvLcGNwDga"
      },
      "execution_count": 10,
      "outputs": []
    },
    {
      "cell_type": "code",
      "source": [
        "import numpy as np"
      ],
      "metadata": {
        "id": "MPDGJmSXsT6T"
      },
      "execution_count": 11,
      "outputs": []
    },
    {
      "cell_type": "markdown",
      "source": [
        "We found that there're 4 models that contains the highest values\n",
        "\n",
        "Model: KNN\n",
        "--------------------\n",
        "- Train MAE: 17427.112145289444\n",
        "- Test MAE: 21799.318552036202\n",
        "- Train RMSE: 24068.9419386175\n",
        "- Test RMSE: 31562.13157491167\n",
        "- Train R2: 0.8095508064637456\n",
        "- Test R2: 0.713117490113877\n",
        "\n",
        "\n",
        "Model: DT\n",
        "--------------------\n",
        "- Train MAE: 11.91827468785471\n",
        "- Test MAE: 25576.945701357465\n",
        "- Train RMSE: 192.4364364298879\n",
        "- Test RMSE: 34853.38263120388\n",
        "- Train R2: 0.9999878258190843\n",
        "- Test R2: 0.6501665861649835\n",
        "\n",
        "\n",
        "Model: RF\n",
        "--------------------\n",
        "- Train MAE: 6838.962943084159\n",
        "- Test MAE: 17561.989321266967\n",
        "- Train RMSE: 9737.76433682984\n",
        "- Test RMSE: 24909.3850062178\n",
        "- Train R2: 0.968826636808535\n",
        "- Test R2: 0.8213111596362501\n",
        "\n",
        "\n",
        "Model: XGB\n",
        "--------------------\n",
        "- Train MAE: 12128.153580803064\n",
        "- Test MAE: 16813.20620050905\n",
        "- Train RMSE: 16614.262790629655\n",
        "- Test RMSE: 23598.212733249646\n",
        "- Train R2: 0.9092540418801894\n",
        "- Test R2: 0.8396275944222351\n",
        "\n",
        "and XGBoost has the highest values in test and train set so we've picked XGBoost model\n",
        "\n",
        "Train R2: 0.9092540418801894\n",
        "Test R2: 0.8396275944222351\n"
      ],
      "metadata": {
        "id": "K09XEV_6ui6_"
      }
    },
    {
      "cell_type": "code",
      "source": [
        "# from sklearn.linear_model import LinearRegression\n",
        "# from sklearn.svm import SVR\n",
        "# from sklearn.neighbors import KNeighborsRegressor\n",
        "# from sklearn.tree import DecisionTreeRegressor\n",
        "# from sklearn.ensemble import RandomForestRegressor\n",
        "from xgboost import XGBRegressor\n",
        "from sklearn.metrics import mean_squared_error, mean_absolute_error, r2_score\n",
        "\n",
        "\n",
        "models = {\n",
        "\n",
        "    # 'LR': LinearRegression(),\n",
        "    # 'SVM': SVR(),\n",
        "    # 'KNN': KNeighborsRegressor(),\n",
        "    # 'DT': DecisionTreeRegressor(),\n",
        "    # 'RF': RandomForestRegressor(),\n",
        "    'XGB': XGBRegressor()\n",
        "}\n",
        "\n",
        "\n",
        "for name, model in models.items():\n",
        "    print(f\"Model: {name}\")\n",
        "    print(\"-\"*20)\n",
        "    model.fit(x_train, y_train)\n",
        "    y_pred_train = model.predict(x_train)\n",
        "    y_pred_test = model.predict(x_test)\n",
        "\n",
        "    print(f\"Train MAE: {mean_absolute_error(y_train, y_pred_train)}\")\n",
        "    print(f\"Test MAE: {mean_absolute_error(y_test, y_pred_test)}\")\n",
        "    print(f\"Train RMSE: {np.sqrt(mean_squared_error(y_train, y_pred_train))}\")\n",
        "    print(f\"Test RMSE: {np.sqrt(mean_squared_error(y_test, y_pred_test))}\")\n",
        "    print(f\"Train R2: {r2_score(y_train, y_pred_train)}\")\n",
        "    print(f\"Test R2: {r2_score(y_test, y_pred_test)}\")\n",
        "    print(\"\\n\")"
      ],
      "metadata": {
        "colab": {
          "base_uri": "https://localhost:8080/"
        },
        "id": "sItUapLqmDkt",
        "outputId": "ef7b4855-dc44-43ec-d42e-92123163da57"
      },
      "execution_count": 14,
      "outputs": [
        {
          "output_type": "stream",
          "name": "stdout",
          "text": [
            "Model: XGB\n",
            "--------------------\n",
            "[00:40:19] WARNING: /workspace/src/objective/regression_obj.cu:152: reg:linear is now deprecated in favor of reg:squarederror.\n",
            "Train MAE: 12128.153580803064\n",
            "Test MAE: 16813.20620050905\n",
            "Train RMSE: 16614.262790629655\n",
            "Test RMSE: 23598.212733249646\n",
            "Train R2: 0.9092540418801894\n",
            "Test R2: 0.8396275944222351\n",
            "\n",
            "\n"
          ]
        }
      ]
    },
    {
      "cell_type": "code",
      "source": [
        "import joblib\n",
        "\n",
        "inputs = X.columns\n",
        "\n",
        "joblib.dump(model, 'model.h5')\n",
        "joblib.dump(scaler, 'scaler.h5')\n",
        "joblib.dump(inputs, 'input.h5')"
      ],
      "metadata": {
        "colab": {
          "base_uri": "https://localhost:8080/"
        },
        "id": "isOtI2irsixK",
        "outputId": "079bc791-8aaf-41d9-b320-08bc42d39d69"
      },
      "execution_count": 15,
      "outputs": [
        {
          "output_type": "execute_result",
          "data": {
            "text/plain": [
              "['input.h5']"
            ]
          },
          "metadata": {},
          "execution_count": 15
        }
      ]
    },
    {
      "cell_type": "code",
      "source": [
        ""
      ],
      "metadata": {
        "id": "wqdN0Egsw7mx"
      },
      "execution_count": null,
      "outputs": []
    }
  ]
}